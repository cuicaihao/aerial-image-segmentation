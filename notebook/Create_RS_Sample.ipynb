{
 "cells": [
  {
   "cell_type": "code",
   "execution_count": 6,
   "id": "5a5a826b",
   "metadata": {},
   "outputs": [],
   "source": [
    "import os\n",
    "from osgeo import gdal\n",
    "import numpy as np\n",
    "import random\n",
    "  \n"
   ]
  },
  {
   "cell_type": "code",
   "execution_count": 7,
   "id": "f5ea7c43",
   "metadata": {},
   "outputs": [],
   "source": [
    "def readTif(fileName):\n",
    "    dataset = gdal.Open(fileName)\n",
    "    if dataset == None:\n",
    "        print(fileName + \"文件无法打开\")\n",
    "    return dataset"
   ]
  },
  {
   "cell_type": "code",
   "execution_count": 8,
   "id": "262b9006",
   "metadata": {},
   "outputs": [],
   "source": [
    "def writeTiff(im_data, im_geotrans, im_proj, path):\n",
    "    if 'int8' in im_data.dtype.name:\n",
    "        datatype = gdal.GDT_Byte\n",
    "    elif 'int16' in im_data.dtype.name:\n",
    "        datatype = gdal.GDT_UInt16\n",
    "    else:\n",
    "        datatype = gdal.GDT_Float32\n",
    "    if len(im_data.shape) == 3:\n",
    "        im_bands, im_height, im_width = im_data.shape\n",
    "    elif len(im_data.shape) == 2:\n",
    "        im_data = np.array([im_data])\n",
    "        im_bands, im_height, im_width = im_data.shape\n",
    "    # 创建文件\n",
    "    driver = gdal.GetDriverByName(\"GTiff\")\n",
    "    dataset = driver.Create(path, int(im_width), int(\n",
    "        im_height), int(im_bands), datatype)\n",
    "    if(dataset != None):\n",
    "        dataset.SetGeoTransform(im_geotrans)  # 写入仿射变换参数\n",
    "        dataset.SetProjection(im_proj)  # 写入投影\n",
    "    for i in range(im_bands):\n",
    "        dataset.GetRasterBand(i + 1).WriteArray(im_data[i])\n",
    "    del dataset"
   ]
  },
  {
   "cell_type": "code",
   "execution_count": 9,
   "id": "bb2b59f5",
   "metadata": {},
   "outputs": [],
   "source": [
    "def TifCrop(TifPath, SavePath, CropSize, RepetitionRate):\n",
    "    dataset_img = readTif(TifPath)\n",
    "    width = dataset_img.RasterXSize\n",
    "    height = dataset_img.RasterYSize\n",
    "    \n",
    "    print(f\"Image Size (H, W):{height, width}\")\n",
    "    proj = dataset_img.GetProjection()\n",
    "    geotrans = dataset_img.GetGeoTransform()\n",
    "    img = dataset_img.ReadAsArray(0, 0, width, height)  # 获取数据\n",
    "\n",
    "    #  获取当前文件夹的文件个数len,并以len+1命名即将裁剪得到的图像\n",
    "#     new_name = len(os.listdir(SavePath)) + 1\n",
    "    #  裁剪图片,重复率为RepetitionRate\n",
    "    new_name = 0\n",
    "    for i in range(int((height - CropSize * RepetitionRate) / (CropSize * (1 - RepetitionRate)))):\n",
    "        for j in range(int((width - CropSize * RepetitionRate) / (CropSize * (1 - RepetitionRate)))):\n",
    "            #  如果图像是单波段\n",
    "            if(len(img.shape) == 2):\n",
    "                cropped = img[int(i * CropSize * (1 - RepetitionRate)): int(i * CropSize * (1 - RepetitionRate)) + CropSize,\n",
    "                              int(j * CropSize * (1 - RepetitionRate)): int(j * CropSize * (1 - RepetitionRate)) + CropSize]\n",
    "            #  如果图像是多波段\n",
    "            else:\n",
    "                cropped = img[:,\n",
    "                              int(i * CropSize * (1 - RepetitionRate)): int(i * CropSize * (1 - RepetitionRate)) + CropSize,\n",
    "                              int(j * CropSize * (1 - RepetitionRate)): int(j * CropSize * (1 - RepetitionRate)) + CropSize]\n",
    "            #  写图像\n",
    "            writeTiff(cropped, geotrans, proj, SavePath + \"/%4d.tif\" % new_name)\n",
    "            #  文件名 + 1\n",
    "            new_name = new_name + 1\n",
    "    #  向前裁剪最后一列\n",
    "    for i in range(int((height-CropSize*RepetitionRate)/(CropSize*(1-RepetitionRate)))):\n",
    "        if(len(img.shape) == 2):\n",
    "            cropped = img[int(i * CropSize * (1 - RepetitionRate)): int(i * CropSize * (1 - RepetitionRate)) + CropSize,\n",
    "                          (width - CropSize): width]\n",
    "        else:\n",
    "            cropped = img[:,\n",
    "                          int(i * CropSize * (1 - RepetitionRate)): int(i * CropSize * (1 - RepetitionRate)) + CropSize,\n",
    "                          (width - CropSize): width]\n",
    "        #  写图像\n",
    "        writeTiff(cropped, geotrans, proj, SavePath + \"/%4d.tif\" % new_name)\n",
    "        new_name = new_name + 1\n",
    "    #  向前裁剪最后一行\n",
    "    for j in range(int((width - CropSize * RepetitionRate) / (CropSize * (1 - RepetitionRate)))):\n",
    "        if(len(img.shape) == 2):\n",
    "            cropped = img[(height - CropSize): height,\n",
    "                          int(j * CropSize * (1 - RepetitionRate)): int(j * CropSize * (1 - RepetitionRate)) + CropSize]\n",
    "        else:\n",
    "            cropped = img[:,\n",
    "                          (height - CropSize): height,\n",
    "                          int(j * CropSize * (1 - RepetitionRate)): int(j * CropSize * (1 - RepetitionRate)) + CropSize]\n",
    "        writeTiff(cropped, geotrans, proj, SavePath + \"/%4d.tif\" % new_name)\n",
    "        #  文件名 + 1\n",
    "        new_name = new_name + 1\n",
    "    #  裁剪右下角\n",
    "    if(len(img.shape) == 2):\n",
    "        cropped = img[(height - CropSize): height,\n",
    "                      (width - CropSize): width]\n",
    "    else:\n",
    "        cropped = img[:,\n",
    "                      (height - CropSize): height,\n",
    "                      (width - CropSize): width]\n",
    "    writeTiff(cropped, geotrans, proj, SavePath + \"/%4d.tif\" % new_name)\n",
    "    new_name = new_name + 1"
   ]
  },
  {
   "cell_type": "code",
   "execution_count": 10,
   "id": "b48bc76e",
   "metadata": {},
   "outputs": [],
   "source": [
    "def RandomCrop(ImagePath, LabelPath, IamgeSavePath, LabelSavePath, CropSize, CutNum):\n",
    "    dataset_img = readTif(ImagePath)\n",
    "    width = dataset_img.RasterXSize\n",
    "    height = dataset_img.RasterYSize\n",
    "    proj = dataset_img.GetProjection()\n",
    "    geotrans = dataset_img.GetGeoTransform()\n",
    "    img = dataset_img.ReadAsArray(0, 0, width, height)  # 获取哟昂数据\n",
    "    dataset_label = readTif(LabelPath)\n",
    "    label = dataset_label.ReadAsArray(0, 0, width, height)  # 获取标签数据\n",
    "\n",
    "    #  获取当前文件夹的文件个数len,并以len+1命名即将裁剪得到的图像\n",
    "#     fileNum = len(os.listdir(IamgeSavePath))\n",
    "    fileNum = 0\n",
    "    new_name = fileNum + 1\n",
    "    while(new_name < CutNum + fileNum + 1):\n",
    "        #  生成剪切图像的左上角XY坐标\n",
    "        UpperLeftX = random.randint(0, height - CropSize)\n",
    "        UpperLeftY = random.randint(0, width - CropSize)\n",
    "        if(len(img.shape) == 2):\n",
    "            imgCrop = img[UpperLeftX: UpperLeftX + CropSize,\n",
    "                          UpperLeftY: UpperLeftY + CropSize]\n",
    "        else:\n",
    "            imgCrop = img[:,\n",
    "                          UpperLeftX: UpperLeftX + CropSize,\n",
    "                          UpperLeftY: UpperLeftY + CropSize]\n",
    "        if(len(label.shape) == 2):\n",
    "            labelCrop = label[UpperLeftX: UpperLeftX + CropSize,\n",
    "                              UpperLeftY: UpperLeftY + CropSize]\n",
    "        else:\n",
    "            labelCrop = label[:,\n",
    "                              UpperLeftX: UpperLeftX + CropSize,\n",
    "                              UpperLeftY: UpperLeftY + CropSize]\n",
    "        writeTiff(imgCrop, geotrans, proj,\n",
    "                  IamgeSavePath + \"/%4d.tif\" % new_name)\n",
    "        writeTiff(labelCrop, geotrans, proj,\n",
    "                  LabelSavePath + \"/%4d.tif\" % new_name)\n",
    "        new_name = new_name + 1"
   ]
  },
  {
   "cell_type": "markdown",
   "id": "55255c9e",
   "metadata": {},
   "source": [
    "## Greate Sample Images"
   ]
  },
  {
   "cell_type": "code",
   "execution_count": 11,
   "id": "8d763f6d",
   "metadata": {},
   "outputs": [
    {
     "output_type": "stream",
     "name": "stdout",
     "text": [
      "Data/GISTIF/RAW/PAN/TestCase6_013282321020_0117Oct14SaiKung013282321020_01_P001_PAN_FULL.tif文件无法打开\n"
     ]
    },
    {
     "output_type": "error",
     "ename": "AttributeError",
     "evalue": "'NoneType' object has no attribute 'RasterXSize'",
     "traceback": [
      "\u001b[0;31m---------------------------------------------------------------------------\u001b[0m",
      "\u001b[0;31mAttributeError\u001b[0m                            Traceback (most recent call last)",
      "\u001b[0;32m<ipython-input-11-0456c9d5cfca>\u001b[0m in \u001b[0;36m<module>\u001b[0;34m\u001b[0m\n\u001b[1;32m     20\u001b[0m \u001b[0mRepetitionRate\u001b[0m \u001b[0;34m=\u001b[0m \u001b[0;36m0\u001b[0m\u001b[0;34m\u001b[0m\u001b[0;34m\u001b[0m\u001b[0m\n\u001b[1;32m     21\u001b[0m \u001b[0;34m\u001b[0m\u001b[0m\n\u001b[0;32m---> 22\u001b[0;31m \u001b[0mTifCrop\u001b[0m\u001b[0;34m(\u001b[0m\u001b[0mTifPath_PAN\u001b[0m\u001b[0;34m,\u001b[0m \u001b[0mSavePath_PAN\u001b[0m\u001b[0;34m,\u001b[0m \u001b[0mCropSize\u001b[0m\u001b[0;34m,\u001b[0m \u001b[0mRepetitionRate\u001b[0m\u001b[0;34m)\u001b[0m\u001b[0;34m\u001b[0m\u001b[0;34m\u001b[0m\u001b[0m\n\u001b[0m\u001b[1;32m     23\u001b[0m \u001b[0mTifCrop\u001b[0m\u001b[0;34m(\u001b[0m\u001b[0mTifPath_MUL\u001b[0m\u001b[0;34m,\u001b[0m \u001b[0mSavePath_MUL\u001b[0m\u001b[0;34m,\u001b[0m \u001b[0mint\u001b[0m\u001b[0;34m(\u001b[0m\u001b[0mCropSize\u001b[0m\u001b[0;34m/\u001b[0m\u001b[0;36m4\u001b[0m\u001b[0;34m)\u001b[0m\u001b[0;34m,\u001b[0m \u001b[0mRepetitionRate\u001b[0m\u001b[0;34m)\u001b[0m\u001b[0;34m\u001b[0m\u001b[0;34m\u001b[0m\u001b[0m\n\u001b[1;32m     24\u001b[0m \u001b[0mTifCrop\u001b[0m\u001b[0;34m(\u001b[0m\u001b[0mTifPath_Label\u001b[0m\u001b[0;34m,\u001b[0m \u001b[0mSavePath_Label\u001b[0m\u001b[0;34m,\u001b[0m \u001b[0mCropSize\u001b[0m\u001b[0;34m,\u001b[0m \u001b[0mRepetitionRate\u001b[0m\u001b[0;34m)\u001b[0m\u001b[0;34m\u001b[0m\u001b[0;34m\u001b[0m\u001b[0m\n",
      "\u001b[0;32m<ipython-input-9-ef944548b967>\u001b[0m in \u001b[0;36mTifCrop\u001b[0;34m(TifPath, SavePath, CropSize, RepetitionRate)\u001b[0m\n\u001b[1;32m      1\u001b[0m \u001b[0;32mdef\u001b[0m \u001b[0mTifCrop\u001b[0m\u001b[0;34m(\u001b[0m\u001b[0mTifPath\u001b[0m\u001b[0;34m,\u001b[0m \u001b[0mSavePath\u001b[0m\u001b[0;34m,\u001b[0m \u001b[0mCropSize\u001b[0m\u001b[0;34m,\u001b[0m \u001b[0mRepetitionRate\u001b[0m\u001b[0;34m)\u001b[0m\u001b[0;34m:\u001b[0m\u001b[0;34m\u001b[0m\u001b[0;34m\u001b[0m\u001b[0m\n\u001b[1;32m      2\u001b[0m     \u001b[0mdataset_img\u001b[0m \u001b[0;34m=\u001b[0m \u001b[0mreadTif\u001b[0m\u001b[0;34m(\u001b[0m\u001b[0mTifPath\u001b[0m\u001b[0;34m)\u001b[0m\u001b[0;34m\u001b[0m\u001b[0;34m\u001b[0m\u001b[0m\n\u001b[0;32m----> 3\u001b[0;31m     \u001b[0mwidth\u001b[0m \u001b[0;34m=\u001b[0m \u001b[0mdataset_img\u001b[0m\u001b[0;34m.\u001b[0m\u001b[0mRasterXSize\u001b[0m\u001b[0;34m\u001b[0m\u001b[0;34m\u001b[0m\u001b[0m\n\u001b[0m\u001b[1;32m      4\u001b[0m     \u001b[0mheight\u001b[0m \u001b[0;34m=\u001b[0m \u001b[0mdataset_img\u001b[0m\u001b[0;34m.\u001b[0m\u001b[0mRasterYSize\u001b[0m\u001b[0;34m\u001b[0m\u001b[0;34m\u001b[0m\u001b[0m\n\u001b[1;32m      5\u001b[0m \u001b[0;34m\u001b[0m\u001b[0m\n",
      "\u001b[0;31mAttributeError\u001b[0m: 'NoneType' object has no attribute 'RasterXSize'"
     ]
    }
   ],
   "source": [
    "#  将影像 A B C 裁剪为重复率为0.x的 H,W 的数据集\n",
    "'''\n",
    "滑动窗口裁剪函数\n",
    "TifPath 影像路径\n",
    "SavePath 裁剪后保存目录\n",
    "CropSize 裁剪尺寸\n",
    "RepetitionRate 重复率\n",
    "'''\n",
    "TifPath_PAN =  \"Data/GISTIF/RAW/PAN/TestCase6_013282321020_0117Oct14SaiKung013282321020_01_P001_PAN_FULL.tif\"\n",
    "SavePath_PAN = \"Data/GISTIF/Processed/PAN\"\n",
    "\n",
    "TifPath_MUL =  \"Data/GISTIF/RAW/MUL/TestCase6_013282321020_0117Oct14SaiKung013282321020_01_P001_MUL_FULL.tif\"\n",
    "SavePath_MUL = \"Data/GISTIF/Processed/MUL\"\n",
    "\n",
    "\n",
    "TifPath_Label =  \"Data/GISTIF/RAW/MASK/TestCase6_Mask.tif\"\n",
    "SavePath_Label = \"Data/GISTIF/Processed/MASK\"\n",
    "\n",
    "CropSize = 512 # 128\n",
    "RepetitionRate = 0\n",
    "\n",
    "TifCrop(TifPath_PAN, SavePath_PAN, CropSize, RepetitionRate)\n",
    "TifCrop(TifPath_MUL, SavePath_MUL, int(CropSize/4), RepetitionRate)\n",
    "TifCrop(TifPath_Label, SavePath_Label, CropSize, RepetitionRate)"
   ]
  },
  {
   "cell_type": "code",
   "execution_count": 9,
   "id": "7906c22d",
   "metadata": {},
   "outputs": [
    {
     "name": "stdout",
     "output_type": "stream",
     "text": [
      "Image Size (H, W):(1000, 1000)\n",
      "Image Size (H, W):(1000, 1000)\n"
     ]
    }
   ],
   "source": [
    "RGB_Path = \"Data/Aerial/RGB.png\"\n",
    "RGB_SavePath = \"Data/Aerial/RGB\"\n",
    "\n",
    "GT_Path = \"Data/Aerial/GT.png\"\n",
    "GT_SavePath = \"Data/Aerial/GT\"\n",
    "\n",
    "CropSize = 200 # 128\n",
    "RepetitionRate = 0\n",
    "\n",
    "TifCrop(RGB_Path, RGB_SavePath, CropSize, RepetitionRate)\n",
    "TifCrop(GT_Path, GT_SavePath, CropSize, RepetitionRate)"
   ]
  },
  {
   "cell_type": "code",
   "execution_count": null,
   "id": "7b28498f",
   "metadata": {},
   "outputs": [],
   "source": []
  },
  {
   "cell_type": "markdown",
   "id": "9af2b4f8",
   "metadata": {},
   "source": [
    "## Greate Random Samples"
   ]
  },
  {
   "cell_type": "code",
   "execution_count": null,
   "id": "60d2af64",
   "metadata": {},
   "outputs": [],
   "source": [
    "#  裁剪得到300张256*256大小的训练集\n",
    "RandomCrop(r\"Data\\data2\\tif\\data2.tif\",\n",
    "           r\"Data\\data2\\label\\label.tif\",\n",
    "           r\"Data\\train\\image1\",\n",
    "           r\"Data\\train\\label1\",\n",
    "           256, 300)\n"
   ]
  }
 ],
 "metadata": {
  "kernelspec": {
   "name": "python3",
   "display_name": "Python 3.8.3 64-bit ('rs': conda)"
  },
  "language_info": {
   "codemirror_mode": {
    "name": "ipython",
    "version": 3
   },
   "file_extension": ".py",
   "mimetype": "text/x-python",
   "name": "python",
   "nbconvert_exporter": "python",
   "pygments_lexer": "ipython3",
   "version": "3.8.3"
  },
  "interpreter": {
   "hash": "d64b017f614121d29f08df2269e518610bc8380528fd911cc09e2c1e24456378"
  }
 },
 "nbformat": 4,
 "nbformat_minor": 5
}